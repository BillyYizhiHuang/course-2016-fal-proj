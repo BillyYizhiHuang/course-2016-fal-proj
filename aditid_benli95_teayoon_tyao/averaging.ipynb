{
 "cells": [
  {
   "cell_type": "code",
   "execution_count": 10,
   "metadata": {
    "collapsed": false
   },
   "outputs": [
    {
     "name": "stdout",
     "output_type": "stream",
     "text": [
      "avg_all: 0.0\n",
      "avg_drug: 0.0\n",
      "diff: 0.0\n",
      "avg_all: 0.5169060555171392\n",
      "avg_drug: 0.5314406779661017\n",
      "diff: -0.01453462244896253\n",
      "avg_all: 1.937160920675689\n",
      "avg_drug: 1.9786440677966102\n",
      "diff: -0.04148314712092116\n",
      "avg_all: 4.074333695544799\n",
      "avg_drug: 4.383305084745762\n",
      "diff: -0.30897138920096356\n",
      "avg_all: 7.086219500148178\n",
      "avg_drug: 7.623474576271186\n",
      "diff: -0.5372550761230084\n",
      "avg_all: 10.611779116862591\n",
      "avg_drug: 11.132627118644068\n",
      "diff: -0.5208480017814772\n",
      "avg_all: 14.696694655734467\n",
      "avg_drug: 15.35915254237288\n",
      "diff: -0.6624578866384141\n",
      "avg_all: 19.211652672132768\n",
      "avg_drug: 19.83762711864407\n",
      "diff: -0.6259744465113002\n",
      "avg_all: 24.32585202015213\n",
      "avg_drug: 25.112881355932203\n",
      "diff: -0.7870293357800726\n",
      "avg_all: 29.891901610194605\n",
      "avg_drug: 31.362796610169493\n",
      "diff: -1.4708949999748882\n",
      "avg_all: 35.98449866640324\n",
      "avg_drug: 37.81805084745763\n",
      "diff: -1.8335521810543867\n",
      "avg_all: 42.61639830089894\n",
      "avg_drug: 44.5035593220339\n",
      "diff: -1.8871610211349577\n",
      "avg_all: 49.651218018374\n",
      "avg_drug: 51.82457627118644\n",
      "diff: -2.1733582528124344\n",
      "avg_all: 57.15991306924825\n",
      "avg_drug: 59.41635593220339\n",
      "diff: -2.25644286295514\n",
      "avg_all: 65.0018097401956\n",
      "avg_drug: 67.00677966101695\n",
      "diff: -2.0049699208213525\n",
      "avg_all: 73.24126444729824\n",
      "avg_drug: 75.76991525423729\n",
      "diff: -2.528650806939055\n",
      "avg_all: 81.8876459547565\n",
      "avg_drug: 84.26135593220339\n",
      "diff: -2.373709977446893\n",
      "avg_all: 90.90483453521684\n",
      "avg_drug: 93.73313559322034\n",
      "diff: -2.828301058003504\n",
      "avg_all: 100.15010569989134\n",
      "avg_drug: 102.99516949152543\n",
      "diff: -2.8450637916340895\n",
      "avg_all: 109.5188659488294\n",
      "avg_drug: 112.68762711864407\n",
      "diff: -3.1687611698146725\n",
      "[(0.0, 0.0), (0.1, -0.01453462244896253), (0.2, -0.04148314712092116), (0.3, -0.30897138920096356), (0.4, -0.5372550761230084), (0.5, -0.5208480017814772), (0.6, -0.6624578866384141), (0.7, -0.6259744465113002), (0.8, -0.7870293357800726), (0.9, -1.4708949999748882), (1.0, -1.8335521810543867), (1.1, -1.8871610211349577), (1.2, -2.1733582528124344), (1.3, -2.25644286295514), (1.4, -2.0049699208213525), (1.5, -2.528650806939055), (1.6, -2.373709977446893), (1.7, -2.828301058003504), (1.8, -2.8450637916340895), (1.9, -3.1687611698146725)]\n"
     ]
    }
   ],
   "source": [
    "import json\n",
    "import dml\n",
    "import prov.model\n",
    "import datetime\n",
    "import uuid\n",
    "from bson.code import Code\n",
    "\n",
    "\n",
    "contributor = 'aditid_benli95_teayoon_tyao'\n",
    "reads = ['aditid_benli95_teayoon_tyao.numberOfEstablishmentsinRadius', 'aditid_benli95_teayoon_tyao.numberOfEstablishmentsinRadiusDrug']\n",
    "writes = ['aditid_benli95_teayoon_tyao.crimesPerNumberOfEstablishment', 'aditid_benli95_teayoon_tyao.drugCrimesPerNumberOfEstablishment']\n",
    "\n",
    "\n",
    "client = dml.pymongo.MongoClient()\n",
    "repo = client.repo\n",
    "repo.authenticate('aditid_benli95_teayoon_tyao', 'aditid_benli95_teayoon_tyao')\n",
    "\n",
    "\n",
    "\n",
    "##reset resulting directory\n",
    "repo.dropPermanent('aditid_benli95_teayoon_tyao.listOfAverages')\n",
    "repo.createPermanent('aditid_benli95_teayoon_tyao.listOfAverages')\n",
    "\n",
    "\"\"\"Change this Radius accordingly\"\"\"\n",
    "radius = 0\n",
    "\n",
    "arr_of_diff = []\n",
    "\n",
    "for d in range(0,10):             #to account for floats\n",
    "    rad = radius + (d/10)\n",
    "    \n",
    "    add_on = (radius*10)+d\n",
    "\n",
    "    \n",
    "    repo_string_all = \"repo_all = repo.aditid_benli95_teayoon_tyao.averageAll\" + str(add_on) + \".find()\"\n",
    "    exec(repo_string_all)\n",
    "    \n",
    "    for a in repo_all:\n",
    "        avgDict = dict(a)\n",
    "        \n",
    "        numer = avgDict[\"value\"][\"product\"]\n",
    "        denom = avgDict[\"value\"][\"crimes\"]\n",
    "        avg_all = numer / denom\n",
    "        #print(\"avg_all: \" + str(avg_all) )\n",
    "    \n",
    "    repo_string_drug = \"repo_drug = repo.aditid_benli95_teayoon_tyao.averageDrug\" + str(add_on) + \".find()\"\n",
    "    exec(repo_string_drug)\n",
    "    \n",
    "    for a in repo_drug:\n",
    "        avgDict = dict(a)\n",
    "        \n",
    "        numer = avgDict[\"value\"][\"product\"]\n",
    "        denom = avgDict[\"value\"][\"crimes\"]\n",
    "        avg_drug = numer / denom\n",
    "        #print(\"avg_drug: \" + str(avg_drug) )\n",
    "\n",
    "\n",
    "    thisEntry = {\"avg_all\": avg_all, \"avg_drug\": avg_drug, \"difference\": avg_all - avg_drug, \"distance\": rad}\n",
    "    #print(\"diff: \" + str(avg_all - avg_drug) )\n",
    "\n",
    "    res = repo.aditid_benli95_teayoon_tyao.listOfAverages.insert_one(thisEntry)\n",
    "    arr_of_diff.append((rad,avg_all - avg_drug))\n",
    "\n",
    "print(arr_of_diff)\n",
    "\n",
    "\n",
    "\n",
    "#find max\n",
    "\n"
   ]
  },
  {
   "cell_type": "code",
   "execution_count": 5,
   "metadata": {
    "collapsed": true
   },
   "outputs": [],
   "source": [
    "repo_string_all = \"repo_all = repo.aditid_benli95_teayoon_tyao.averageAll\" + str(11) + \".find()\"\n",
    "    \n",
    "    \n",
    "exec(repo_string_all)"
   ]
  },
  {
   "cell_type": "code",
   "execution_count": 6,
   "metadata": {
    "collapsed": false
   },
   "outputs": [
    {
     "name": "stdout",
     "output_type": "stream",
     "text": [
      "{'value': {'crimes': 253075.0, 'product': 10785145.0}, '_id': None}\n"
     ]
    }
   ],
   "source": [
    "for a in repo_all:\n",
    "    print(a)"
   ]
  },
  {
   "cell_type": "code",
   "execution_count": null,
   "metadata": {
    "collapsed": true
   },
   "outputs": [],
   "source": []
  }
 ],
 "metadata": {
  "kernelspec": {
   "display_name": "Python 3",
   "language": "python",
   "name": "python3"
  },
  "language_info": {
   "codemirror_mode": {
    "name": "ipython",
    "version": 3
   },
   "file_extension": ".py",
   "mimetype": "text/x-python",
   "name": "python",
   "nbconvert_exporter": "python",
   "pygments_lexer": "ipython3",
   "version": "3.5.1"
  }
 },
 "nbformat": 4,
 "nbformat_minor": 0
}
