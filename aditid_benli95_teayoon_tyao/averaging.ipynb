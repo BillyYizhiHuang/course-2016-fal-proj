{
 "cells": [
  {
   "cell_type": "code",
   "execution_count": 13,
   "metadata": {
    "collapsed": false
   },
   "outputs": [
    {
     "name": "stdout",
     "output_type": "stream",
     "text": [
      "[(3.0, -1.2450464372958265), (3.1, -0.8300990277217295), (3.2, 0.016431812435854454), (3.3, 0.5118593252151129), (3.4, 0.7582651187009901), (3.5, 0.9167192598830525), (3.6, 1.3215516603405035), (3.7, 1.6277809134091399), (3.8, 1.2155871341817601), (3.9, 1.181746768978826)]\n"
     ]
    }
   ],
   "source": [
    "import json\n",
    "import dml\n",
    "import prov.model\n",
    "import datetime\n",
    "import uuid\n",
    "from bson.code import Code\n",
    "\n",
    "\n",
    "contributor = 'aditid_benli95_teayoon_tyao'\n",
    "reads = ['aditid_benli95_teayoon_tyao.numberOfEstablishmentsinRadius', 'aditid_benli95_teayoon_tyao.numberOfEstablishmentsinRadiusDrug']\n",
    "writes = ['aditid_benli95_teayoon_tyao.crimesPerNumberOfEstablishment', 'aditid_benli95_teayoon_tyao.drugCrimesPerNumberOfEstablishment']\n",
    "\n",
    "\n",
    "client = dml.pymongo.MongoClient()\n",
    "repo = client.repo\n",
    "repo.authenticate('aditid_benli95_teayoon_tyao', 'aditid_benli95_teayoon_tyao')\n",
    "\n",
    "\n",
    "\n",
    "##reset resulting directory\n",
    "repo.dropPermanent('aditid_benli95_teayoon_tyao.listOfAverages')\n",
    "repo.createPermanent('aditid_benli95_teayoon_tyao.listOfAverages')\n",
    "\n",
    "\"\"\"Change this Radius accordingly\"\"\"\n",
    "radius = 3\n",
    "\n",
    "arr_of_diff = []\n",
    "\n",
    "for d in range(0,10):             #to account for floats\n",
    "    rad = radius + (d/10)\n",
    "    \n",
    "    add_on = (radius*10)+d\n",
    "\n",
    "    \n",
    "    repo_string_all = \"repo_all = repo.aditid_benli95_teayoon_tyao.averageAll\" + str(add_on) + \".find()\"\n",
    "    exec(repo_string_all)\n",
    "    \n",
    "    for a in repo_all:\n",
    "        avgDict = dict(a)\n",
    "        \n",
    "        numer = avgDict[\"value\"][\"product\"]\n",
    "        denom = avgDict[\"value\"][\"crimes\"]\n",
    "        avg_all = numer / denom\n",
    "        #print(\"avg_all: \" + str(avg_all) )\n",
    "    \n",
    "    repo_string_drug = \"repo_drug = repo.aditid_benli95_teayoon_tyao.averageDrug\" + str(add_on) + \".find()\"\n",
    "    exec(repo_string_drug)\n",
    "    \n",
    "    for a in repo_drug:\n",
    "        avgDict = dict(a)\n",
    "        \n",
    "        numer = avgDict[\"value\"][\"product\"]\n",
    "        denom = avgDict[\"value\"][\"crimes\"]\n",
    "        avg_drug = numer / denom\n",
    "        #print(\"avg_drug: \" + str(avg_drug) )\n",
    "\n",
    "\n",
    "    thisEntry = {\"avg_all\": avg_all, \"avg_drug\": avg_drug, \"difference\": avg_all - avg_drug, \"distance\": rad}\n",
    "    #print(\"diff: \" + str(avg_all - avg_drug) )\n",
    "\n",
    "    res = repo.aditid_benli95_teayoon_tyao.listOfAverages.insert_one(thisEntry)\n",
    "    arr_of_diff.append((rad,avg_all - avg_drug))\n",
    "\n",
    "print(arr_of_diff)\n",
    "\n",
    "\n",
    "\n",
    "#find max\n",
    "\n"
   ]
  },
  {
   "cell_type": "code",
   "execution_count": 5,
   "metadata": {
    "collapsed": true
   },
   "outputs": [],
   "source": [
    "repo_string_all = \"repo_all = repo.aditid_benli95_teayoon_tyao.averageAll\" + str(11) + \".find()\"\n",
    "    \n",
    "    \n",
    "exec(repo_string_all)"
   ]
  },
  {
   "cell_type": "code",
   "execution_count": 6,
   "metadata": {
    "collapsed": false
   },
   "outputs": [
    {
     "name": "stdout",
     "output_type": "stream",
     "text": [
      "{'value': {'crimes': 253075.0, 'product': 10785145.0}, '_id': None}\n"
     ]
    }
   ],
   "source": [
    "for a in repo_all:\n",
    "    print(a)"
   ]
  },
  {
   "cell_type": "code",
   "execution_count": null,
   "metadata": {
    "collapsed": true
   },
   "outputs": [],
   "source": []
  }
 ],
 "metadata": {
  "kernelspec": {
   "display_name": "Python 3",
   "language": "python",
   "name": "python3"
  },
  "language_info": {
   "codemirror_mode": {
    "name": "ipython",
    "version": 3
   },
   "file_extension": ".py",
   "mimetype": "text/x-python",
   "name": "python",
   "nbconvert_exporter": "python",
   "pygments_lexer": "ipython3",
   "version": "3.5.1"
  }
 },
 "nbformat": 4,
 "nbformat_minor": 0
}
