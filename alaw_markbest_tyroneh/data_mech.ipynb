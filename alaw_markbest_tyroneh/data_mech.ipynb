{
 "cells": [
  {
   "cell_type": "code",
   "execution_count": 3,
   "metadata": {
    "collapsed": false
   },
   "outputs": [],
   "source": [
    "from optimizeBusStops import optimizeBusStops\n",
    "import matplotlib.pyplot as plt\n",
    "from sklearn.cluster import KMeans\n",
    "import numpy as np\n",
    "import matplotlib.patches as mpatches"
   ]
  },
  {
   "cell_type": "code",
   "execution_count": 4,
   "metadata": {
    "collapsed": false
   },
   "outputs": [],
   "source": [
    "routes_dict, stops_dict, points_dict = optimizeBusStops.collectData()"
   ]
  },
  {
   "cell_type": "code",
   "execution_count": 5,
   "metadata": {
    "collapsed": false
   },
   "outputs": [],
   "source": [
    "tree, tree_keys = optimizeBusStops.rTreeify(points_dict)"
   ]
  },
  {
   "cell_type": "code",
   "execution_count": 6,
   "metadata": {
    "collapsed": false
   },
   "outputs": [],
   "source": [
    "route_num = 39300\n",
    "route = routes_dict[str(route_num)]\n",
    "r = 0.005"
   ]
  },
  {
   "cell_type": "code",
   "execution_count": 7,
   "metadata": {
    "collapsed": false
   },
   "outputs": [],
   "source": [
    "result_set = optimizeBusStops.routeTreeIntersection(route, tree, tree_keys, points_dict, r)"
   ]
  },
  {
   "cell_type": "code",
   "execution_count": 8,
   "metadata": {
    "collapsed": false,
    "scrolled": true
   },
   "outputs": [],
   "source": [
    "proj = optimizeBusStops.projectPoints(route, points_dict, result_set, tree_keys)"
   ]
  },
  {
   "cell_type": "code",
   "execution_count": 9,
   "metadata": {
    "collapsed": false
   },
   "outputs": [],
   "source": [
    "stops = optimizeBusStops.findStops(len(route['properties']['route_stops']), proj)"
   ]
  },
  {
   "cell_type": "code",
   "execution_count": 20,
   "metadata": {
    "collapsed": false
   },
   "outputs": [
    {
     "name": "stdout",
     "output_type": "stream",
     "text": [
      "[[42.347590774628955, -71.073697886498223], [42.310153530724449, -71.115090120344902], [42.342056797036442, -71.085942476800142], [42.332024494304569, -71.111948047736689], [42.345578079944076, -71.081602847252043], [42.30178074662745, -71.113427533105721], [42.321490987155684, -71.112062807240264], [42.337306408766182, -71.09683314764041], [42.349838746878561, -71.07488435071329], [42.333276769435876, -71.106748321282453], [42.304573237954529, -71.114695756892303], [42.349103727737017, -71.077325829771866], [42.317073203710528, -71.113363823484207], [42.327878504110416, -71.110837908802026], [42.344009750252525, -71.083557610491553], [42.319402073820889, -71.111753219840082], [42.3482920396861, -71.072159216974796], [42.313347451174941, -71.11409608984799], [42.335075075962131, -71.102642452030139], [42.338833003267425, -71.092979333922443], [42.34071172154276, -71.088284738635224], [42.350370851406254, -71.072809068679533], [42.300640705763541, -71.11339789024872], [42.307540914352103, -71.11549344219614], [42.323765608923885, -71.112249906217002], [42.347051316129757, -71.079727328917073]]\n"
     ]
    }
   ],
   "source": [
    "print([[stop[1][0], stop[0][0]] for stop in stops], sep='')"
   ]
  },
  {
   "cell_type": "code",
   "execution_count": 22,
   "metadata": {
    "collapsed": false
   },
   "outputs": [
    {
     "name": "stdout",
     "output_type": "stream",
     "text": [
      "[[42.347432596337754, -71.07452066263173], [42.34990078071341, -71.07463344632436], [42.34933728601897, -71.07682373975666], [42.345290221629085, -71.08197014068807], [42.34135811278739, -71.08678802042779], [42.340491111495496, -71.08886821287133], [42.33916344964867, -71.09212930468222], [42.33776469830105, -71.0956498694103], [42.33598285457982, -71.10020927507962], [42.33505572816447, -71.10269890128758], [42.33372356082908, -71.10571259741731], [42.333229100361265, -71.109275300049], [42.33185792231728, -71.11200083778573], [42.32938460789468, -71.11097564241133], [42.32653493995313, -71.111395371831], [42.32398510026418, -71.11226239705472], [42.321685204455896, -71.11209833109757], [42.31963799388924, -71.11165326715722], [42.317335675945436, -71.11318542804547], [42.31329660734051, -71.11409770386854], [42.311447677250236, -71.11444031659939], [42.309920313450085, -71.11530506173686], [42.30836812509417, -71.11554926525419], [42.306201805851416, -71.1150502444303], [42.30438767051184, -71.11470327658563], [42.30043785025293, -71.11353910903452]]\n"
     ]
    }
   ],
   "source": [
    "print([stops_dict[str(stop_id)]['geometry']['coordinates'] for stop_id in route['properties']['route_stops']], sep='')"
   ]
  },
  {
   "cell_type": "code",
   "execution_count": null,
   "metadata": {
    "collapsed": true
   },
   "outputs": [],
   "source": []
  }
 ],
 "metadata": {
  "kernelspec": {
   "display_name": "Python 3",
   "language": "python",
   "name": "python3"
  },
  "language_info": {
   "codemirror_mode": {
    "name": "ipython",
    "version": 3
   },
   "file_extension": ".py",
   "mimetype": "text/x-python",
   "name": "python",
   "nbconvert_exporter": "python",
   "pygments_lexer": "ipython3",
   "version": "3.5.2"
  }
 },
 "nbformat": 4,
 "nbformat_minor": 2
}
