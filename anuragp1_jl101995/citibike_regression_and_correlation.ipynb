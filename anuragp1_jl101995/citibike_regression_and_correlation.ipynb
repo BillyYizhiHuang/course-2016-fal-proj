{
 "cells": [
  {
   "cell_type": "code",
   "execution_count": 5,
   "metadata": {
    "collapsed": false
   },
   "outputs": [
    {
     "name": "stdout",
     "output_type": "stream",
     "text": [
      "slope is 7.6241718267\n",
      "intercept is 126643.639031\n",
      "r-squared is 0.0527481554091\n",
      "Correlation between pedestrian count and citibike usage is 0.229669665844 with a p-value of 0.120428285482\n"
     ]
    }
   ],
   "source": [
    "import urllib.request\n",
    "import json\n",
    "import dml\n",
    "import prov.model\n",
    "import datetime\n",
    "import uuid\n",
    "import statistics\n",
    "import pandas as pd\n",
    "import scipy.stats\n",
    "import matplotlib.pyplot as plt\n",
    "\n",
    "def get_collection(coll_name):\n",
    "    # Collection for station sample\n",
    "    sample_coll_name = coll_name.split('repo.anuragp1_jl101995.')[1] + '_sample'\n",
    "    repo.dropPermanent(sample_coll_name)\n",
    "    repo.createPermanent(sample_coll_name)\n",
    "\n",
    "\n",
    "    return eval(coll_name)\n",
    "\n",
    "citibike_pedestriancount_data = get_collection('repo.anuragp1_jl101995.citibike_pedestriancount').find()\n",
    "\n",
    "x_pedestrian_count, y_citibike_usage = [], []\n",
    "for d in citibike_pedestriancount_data:\n",
    "    x_pedestrian_count.append(d['ped_avg'])\n",
    "    y_citibike_usage.append(d['citibike_total'])\n",
    "    \n",
    "    \n",
    "\n",
    "slope, intercept, r_value, p_value, std_err = scipy.stats.linregress(x_pedestrian_count, y_citibike_usage)\n",
    "r_squared = r_value**2\n",
    "\n",
    "print('slope is ' + str(slope))\n",
    "print('intercept is ' + str(intercept))\n",
    "print('r-squared is ' + str(r_squared))\n",
    "\n",
    "#print('Our regression equation is : Subway_Usage = 517937 + 18.9*(Region_Pedestrian_Count)')\n",
    "\n",
    "\n",
    "result = scipy.stats.pearsonr(x_pedestrian_count, y_citibike_usage)\n",
    "\n",
    "print('Correlation between pedestrian count and citibike usage is ' + str(result[0]) + ' with a p-value of ' + str(result[1]))\n",
    "        \n",
    "# slope is 7.6241718267\n",
    "# intercept is 126643.639031\n",
    "# r-squared is 0.0527481554091\n",
    "# Correlation between pedestrian count and citibike usage is 0.229669665844 with a p-value of 0.120428285482        "
   ]
  }
 ],
 "metadata": {
  "anaconda-cloud": {},
  "kernelspec": {
   "display_name": "Python [conda root]",
   "language": "python",
   "name": "conda-root-py"
  },
  "language_info": {
   "codemirror_mode": {
    "name": "ipython",
    "version": 3
   },
   "file_extension": ".py",
   "mimetype": "text/x-python",
   "name": "python",
   "nbconvert_exporter": "python",
   "pygments_lexer": "ipython3",
   "version": "3.5.2"
  }
 },
 "nbformat": 4,
 "nbformat_minor": 1
}
