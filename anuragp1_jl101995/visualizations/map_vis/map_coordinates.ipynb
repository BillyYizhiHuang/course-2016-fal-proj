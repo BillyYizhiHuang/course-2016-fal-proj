{
 "cells": [
  {
   "cell_type": "code",
   "execution_count": 2,
   "metadata": {
    "collapsed": false
   },
   "outputs": [
    {
     "ename": "EnvironmentError",
     "evalue": "\"No valid configuration file found at '../config.json'. All scripts must be located within an immediate subdirectory of the platform instance root directory.\"",
     "output_type": "error",
     "traceback": [
      "\u001b[0;31m---------------------------------------------------------------------------\u001b[0m",
      "\u001b[0;31mEnvironmentError\u001b[0m                          Traceback (most recent call last)",
      "\u001b[0;32m<ipython-input-2-932033163d49>\u001b[0m in \u001b[0;36m<module>\u001b[0;34m()\u001b[0m\n\u001b[1;32m      1\u001b[0m \u001b[0;32mimport\u001b[0m \u001b[0murllib\u001b[0m\u001b[0;34m.\u001b[0m\u001b[0mrequest\u001b[0m\u001b[0;34m\u001b[0m\u001b[0m\n\u001b[1;32m      2\u001b[0m \u001b[0;32mimport\u001b[0m \u001b[0mjson\u001b[0m\u001b[0;34m\u001b[0m\u001b[0m\n\u001b[0;32m----> 3\u001b[0;31m \u001b[0;32mimport\u001b[0m \u001b[0mdml\u001b[0m\u001b[0;34m\u001b[0m\u001b[0m\n\u001b[0m\u001b[1;32m      4\u001b[0m \u001b[0;32mimport\u001b[0m \u001b[0mprov\u001b[0m\u001b[0;34m.\u001b[0m\u001b[0mmodel\u001b[0m\u001b[0;34m\u001b[0m\u001b[0m\n\u001b[1;32m      5\u001b[0m \u001b[0;32mimport\u001b[0m \u001b[0mdatetime\u001b[0m\u001b[0;34m\u001b[0m\u001b[0m\n",
      "\u001b[0;32m/Users/jarrodlewis/anaconda/lib/python3.5/site-packages/dml/__init__.py\u001b[0m in \u001b[0;36m<module>\u001b[0;34m()\u001b[0m\n\u001b[1;32m      1\u001b[0m \u001b[0;31m# Make the extended version of PyMongo available when the\u001b[0m\u001b[0;34m\u001b[0m\u001b[0;34m\u001b[0m\u001b[0m\n\u001b[1;32m      2\u001b[0m \u001b[0;31m# module is loaded.\u001b[0m\u001b[0;34m\u001b[0m\u001b[0;34m\u001b[0m\u001b[0m\n\u001b[0;32m----> 3\u001b[0;31m \u001b[0;32mfrom\u001b[0m \u001b[0mdml\u001b[0m\u001b[0;34m.\u001b[0m\u001b[0mdml\u001b[0m \u001b[0;32mimport\u001b[0m \u001b[0mpymongo\u001b[0m\u001b[0;34m\u001b[0m\u001b[0m\n\u001b[0m\u001b[1;32m      4\u001b[0m \u001b[0;34m\u001b[0m\u001b[0m\n\u001b[1;32m      5\u001b[0m \u001b[0;31m# Allow users to create their own Algorithm static classes.\u001b[0m\u001b[0;34m\u001b[0m\u001b[0;34m\u001b[0m\u001b[0m\n",
      "\u001b[0;32m/Users/jarrodlewis/anaconda/lib/python3.5/site-packages/dml/dml.py\u001b[0m in \u001b[0;36m<module>\u001b[0;34m()\u001b[0m\n\u001b[1;32m     94\u001b[0m         \u001b[0;34m+\u001b[0m \u001b[0mpathToConfig\u001b[0m\u001b[0;31m\\\u001b[0m\u001b[0;34m\u001b[0m\u001b[0m\n\u001b[1;32m     95\u001b[0m         \u001b[0;34m+\u001b[0m \u001b[0;34m\"'. All scripts must be located within an immediate \"\u001b[0m\u001b[0;31m\\\u001b[0m\u001b[0;34m\u001b[0m\u001b[0m\n\u001b[0;32m---> 96\u001b[0;31m         \u001b[0;34m+\u001b[0m \u001b[0;34m\"subdirectory of the platform instance root directory.\"\u001b[0m\u001b[0;31m\\\u001b[0m\u001b[0;34m\u001b[0m\u001b[0m\n\u001b[0m\u001b[1;32m     97\u001b[0m     )\n\u001b[1;32m     98\u001b[0m \u001b[0;34m\u001b[0m\u001b[0m\n",
      "\u001b[0;31mEnvironmentError\u001b[0m: \"No valid configuration file found at '../config.json'. All scripts must be located within an immediate subdirectory of the platform instance root directory.\""
     ]
    }
   ],
   "source": [
    "import urllib.request\n",
    "import json\n",
    "import dml\n",
    "import prov.model\n",
    "import datetime\n",
    "import uuid\n",
    "import statistics\n",
    "import pandas as pd\n",
    "from bson.code import Code\n",
    "\n",
    "\n",
    "# Set up the database connection.\n",
    "client = dml.pymongo.MongoClient()\n",
    "repo = client.repo\n",
    "repo.authenticate('anuragp1_jl101995', 'anuragp1_jl101995')\n",
    "\n",
    "\n",
    "print('Loading ped_data from Mongo')\n",
    "ped_data = repo.anuragp1_jl101995.pedestriancounts.find()\n",
    "data =[]\n",
    "for entry in ped_data:\n",
    "    data.append((entry['the_geom']['coordinates'][0],entry['the_geom']['coordinates'][1] , entry['street']))\n",
    "ped_df = pd.DataFrame(data, columns = ['lat', 'lng', 'street'])\n",
    "\n",
    "ped_df = ped_df.drop_duplicates('street')\n",
    "\n",
    "ped_df"
   ]
  },
  {
   "cell_type": "code",
   "execution_count": null,
   "metadata": {
    "collapsed": true
   },
   "outputs": [],
   "source": []
  },
  {
   "cell_type": "code",
   "execution_count": null,
   "metadata": {
    "collapsed": false
   },
   "outputs": [],
   "source": [
    "ped_df = ped_df.set_index('street')\n",
    "ped_df\n",
    "ped_df= ped_df.T\n",
    "#ped_df.to_json('ped_coord_v2.json')\n",
    "print('Finished')"
   ]
  },
  {
   "cell_type": "code",
   "execution_count": null,
   "metadata": {
    "collapsed": false
   },
   "outputs": [],
   "source": [
    "# anuyorker\n",
    "# anuragp1_jl101995\n",
    "\n",
    "print('Loading citibike_data from Mongo')\n",
    "citi_data = repo.anuragp1_jl101995.citibike.find()\n",
    "data =[]\n",
    "for entry in citi_data:\n",
    "    data.append((entry['start station longitude'], entry['start station latitude'] , entry['start station name']))\n",
    "    \n",
    "citi_df = pd.DataFrame(data, columns = ['lng', 'lat', 'street'])\n",
    "citi_df = citi_df.drop_duplicates('street')\n",
    "\n",
    "citi_df"
   ]
  },
  {
   "cell_type": "code",
   "execution_count": null,
   "metadata": {
    "collapsed": false
   },
   "outputs": [],
   "source": [
    "citi_df = citi_df.set_index('street')\n",
    "citi_df= citi_df.T\n",
    "#citi_df.to_json('citi_coord.json')\n",
    "print('Finished')"
   ]
  },
  {
   "cell_type": "code",
   "execution_count": null,
   "metadata": {
    "collapsed": false
   },
   "outputs": [],
   "source": [
    "print('Loading subway_data from Mongo')\n",
    "\n",
    "subway_data = repo.anuragp1_jl101995.subway_stations.find()\n",
    "data =[]\n",
    "for entry in subway_data:\n",
    "    data.append((entry['the_geom']['coordinates'][0],entry['the_geom']['coordinates'][1] , entry['name']))\n",
    "    \n",
    "subway_df = pd.DataFrame(data, columns = ['lng', 'lat', 'street'])\n",
    "subway_df = subway_df.drop_duplicates('street')\n",
    "\n",
    "subway_df\n"
   ]
  },
  {
   "cell_type": "code",
   "execution_count": null,
   "metadata": {
    "collapsed": false
   },
   "outputs": [],
   "source": [
    "subway_df = subway_df.set_index('street')\n",
    "subway_df= subway_df.T\n",
    "#subway_df.to_json('subway_coord.json')\n",
    "print('Finished')"
   ]
  }
 ],
 "metadata": {
  "anaconda-cloud": {},
  "kernelspec": {
   "display_name": "Python [conda root]",
   "language": "python",
   "name": "conda-root-py"
  },
  "language_info": {
   "codemirror_mode": {
    "name": "ipython",
    "version": 3
   },
   "file_extension": ".py",
   "mimetype": "text/x-python",
   "name": "python",
   "nbconvert_exporter": "python",
   "pygments_lexer": "ipython3",
   "version": "3.5.2"
  }
 },
 "nbformat": 4,
 "nbformat_minor": 1
}
